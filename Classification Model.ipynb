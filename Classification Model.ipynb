{
 "cells": [
  {
   "cell_type": "markdown",
   "metadata": {},
   "source": [
    "<p style=\"text-align: center;\"> <span style=\"color:firebrick\"> <font size=\"5\"> <b> USC Marshall School of Business </b> </font> </p> </span> \n",
    "\n",
    "<p style=\"text-align: center;\"> <b> <font font size=\"5\"> DSO 530 - Final Project </p> </b></font>\n",
    "\n",
    "<p style=\"text-align: center;\"> <b> Spring 2021 </b> </p>\n",
    "\n",
    "## <span style=\"color:black\"> <font size=\"3\">By: Ningchuan Peng</span>"
   ]
  },
  {
   "cell_type": "markdown",
   "metadata": {},
   "source": [
    "For this project I am going to exam European call option pricing data on the S&P 500. A European call option gives the holder the right (but not the obligation) to purchase an asset at a given time for a given price. Valuing such an option is tricky because it depends on the future value of the underlying asset. \n",
    "\n",
    "There are two datasets `option_train.csv` and `option_test_wolabel.csv`. The training data set has information on 1,680 separate options. In particular, for each option we have recorded \n",
    "- Value (C): Current option value \n",
    "- S: Current asset value \n",
    "- K: Strike price of option \n",
    "- r: Annual interest rate \n",
    "- tau: Time to maturity (in years) \n",
    "- BS: The Black-Scholes formula was applied to this data (using some 𝜎) to get C_pred. And If an option has C_pred – C > 0, i.e., the prediction over estimated the option value, we associate that option by (Over); otherwise, we associate that option with (Under). \n",
    "\n",
    "The test data set is similar except it has only 1,120 options and is missing the Value and BS variables.\n",
    "\n",
    "The core idea of the project is to use the training data to build statistical/ML models with \n",
    "1. Value as the response (i.e., a regression problem) and then \n",
    "2. BS as the response (i.e., a classification problem). \n",
    "\n",
    "The other four variables will be used as the predictors. Ultimately, I will select what I consider to be the most accurate approach and use it to make predictions for C(Regression) and BS(Classification) on the 1,120 options in the test data set."
   ]
  },
  {
   "cell_type": "code",
   "execution_count": 1,
   "metadata": {
    "ExecuteTime": {
     "end_time": "2022-03-23T03:11:57.314121Z",
     "start_time": "2022-03-23T03:11:56.626945Z"
    }
   },
   "outputs": [],
   "source": [
    "# import the packages\n",
    "import itertools\n",
    "import numpy as np\n",
    "import pandas as pd\n",
    "from sklearn.preprocessing import MinMaxScaler, StandardScaler\n",
    "from sklearn.metrics import roc_curve, auc, mean_squared_error\n",
    "from sklearn.model_selection import train_test_split, StratifiedKFold, KFold, cross_val_score, GridSearchCV\n",
    "from sklearn.linear_model import LogisticRegression, LinearRegression, Ridge, Lasso\n",
    "from sklearn.discriminant_analysis import LinearDiscriminantAnalysis, QuadraticDiscriminantAnalysis\n",
    "from sklearn.neighbors import KNeighborsClassifier, KNeighborsRegressor\n",
    "from sklearn.tree import DecisionTreeClassifier\n",
    "from sklearn.ensemble import RandomForestClassifier, AdaBoostClassifier, VotingClassifier, VotingRegressor\n",
    "from sklearn.svm import SVC, SVR\n",
    "from sklearn.gaussian_process import GaussianProcessClassifier, GaussianProcessRegressor\n",
    "\n",
    "# create standardization and normalization method\n",
    "mms = MinMaxScaler()\n",
    "stdsc = StandardScaler()"
   ]
  },
  {
   "cell_type": "code",
   "execution_count": 2,
   "metadata": {
    "ExecuteTime": {
     "end_time": "2022-03-23T03:11:57.345966Z",
     "start_time": "2022-03-23T03:11:57.314733Z"
    }
   },
   "outputs": [
    {
     "data": {
      "text/html": [
       "<div>\n",
       "<style scoped>\n",
       "    .dataframe tbody tr th:only-of-type {\n",
       "        vertical-align: middle;\n",
       "    }\n",
       "\n",
       "    .dataframe tbody tr th {\n",
       "        vertical-align: top;\n",
       "    }\n",
       "\n",
       "    .dataframe thead th {\n",
       "        text-align: right;\n",
       "    }\n",
       "</style>\n",
       "<table border=\"1\" class=\"dataframe\">\n",
       "  <thead>\n",
       "    <tr style=\"text-align: right;\">\n",
       "      <th></th>\n",
       "      <th>S</th>\n",
       "      <th>K</th>\n",
       "      <th>tau</th>\n",
       "      <th>r</th>\n",
       "      <th>BS</th>\n",
       "      <th>Value</th>\n",
       "    </tr>\n",
       "  </thead>\n",
       "  <tbody>\n",
       "    <tr>\n",
       "      <th>0</th>\n",
       "      <td>431.623898</td>\n",
       "      <td>420</td>\n",
       "      <td>0.341270</td>\n",
       "      <td>0.03013</td>\n",
       "      <td>0</td>\n",
       "      <td>21.670404</td>\n",
       "    </tr>\n",
       "    <tr>\n",
       "      <th>1</th>\n",
       "      <td>427.015526</td>\n",
       "      <td>465</td>\n",
       "      <td>0.166667</td>\n",
       "      <td>0.03126</td>\n",
       "      <td>1</td>\n",
       "      <td>0.125000</td>\n",
       "    </tr>\n",
       "    <tr>\n",
       "      <th>2</th>\n",
       "      <td>427.762336</td>\n",
       "      <td>415</td>\n",
       "      <td>0.265873</td>\n",
       "      <td>0.03116</td>\n",
       "      <td>0</td>\n",
       "      <td>20.691244</td>\n",
       "    </tr>\n",
       "    <tr>\n",
       "      <th>3</th>\n",
       "      <td>451.711658</td>\n",
       "      <td>460</td>\n",
       "      <td>0.063492</td>\n",
       "      <td>0.02972</td>\n",
       "      <td>1</td>\n",
       "      <td>1.035002</td>\n",
       "    </tr>\n",
       "    <tr>\n",
       "      <th>4</th>\n",
       "      <td>446.718974</td>\n",
       "      <td>410</td>\n",
       "      <td>0.166667</td>\n",
       "      <td>0.02962</td>\n",
       "      <td>0</td>\n",
       "      <td>39.553020</td>\n",
       "    </tr>\n",
       "  </tbody>\n",
       "</table>\n",
       "</div>"
      ],
      "text/plain": [
       "            S    K       tau        r  BS      Value\n",
       "0  431.623898  420  0.341270  0.03013   0  21.670404\n",
       "1  427.015526  465  0.166667  0.03126   1   0.125000\n",
       "2  427.762336  415  0.265873  0.03116   0  20.691244\n",
       "3  451.711658  460  0.063492  0.02972   1   1.035002\n",
       "4  446.718974  410  0.166667  0.02962   0  39.553020"
      ]
     },
     "execution_count": 2,
     "metadata": {},
     "output_type": "execute_result"
    }
   ],
   "source": [
    "# read the data and do data cleaning\n",
    "option = pd.read_csv(\"option_train.csv\")\n",
    "option['BS'] = option['BS'] .map({'Under': 0, 'Over': 1})\n",
    "new_seq = option.columns.tolist()[1:] + option.columns.tolist()[:1]\n",
    "option = option[new_seq]\n",
    "option.head()"
   ]
  },
  {
   "cell_type": "code",
   "execution_count": 3,
   "metadata": {
    "ExecuteTime": {
     "end_time": "2022-03-23T03:11:57.422885Z",
     "start_time": "2022-03-23T03:11:57.346965Z"
    },
    "scrolled": true
   },
   "outputs": [
    {
     "name": "stdout",
     "output_type": "stream",
     "text": [
      "Linear Regression: 0.9107826304176896\n",
      "Logistic Regression: 0.08630952380952372\n"
     ]
    }
   ],
   "source": [
    "# create a function for cross validation and give back the R2 and Accuracy for regression and classification problems\n",
    "def get_error(ml_method, std_method, output_col='BS', input_cols=['S','K','tau','r'], ran_state=0):\n",
    "    # k-fold cross validation\n",
    "    if output_col == 'BS':\n",
    "        kfolds = StratifiedKFold(n_splits = 10, random_state = ran_state, shuffle = True)\n",
    "    elif output_col == 'Value':\n",
    "        kfolds = KFold(n_splits = 10, random_state = ran_state, shuffle = True)\n",
    "    \n",
    "    # standardization and normalization\n",
    "    if std_method != None:\n",
    "        X_train = std_method.fit_transform(option[input_cols].values)\n",
    "    else:\n",
    "        X_train = option[input_cols].values\n",
    "    \n",
    "    # cross validation\n",
    "    cv_ers = cross_val_score(ml_method, \n",
    "                             X_train, \n",
    "                             option[output_col], \n",
    "                             cv = kfolds)\n",
    "    # give back the output\n",
    "    if output_col == 'BS':\n",
    "        mean_cv_er = 1-np.mean(cv_ers)\n",
    "        cv_ers = 1-cv_ers\n",
    "    else:\n",
    "        mean_cv_er = np.mean(cv_ers)\n",
    "    return cv_ers, mean_cv_er\n",
    "\n",
    "# for testing\n",
    "print('Linear Regression:', get_error(LinearRegression(), stdsc, 'Value', ['S','K','tau','r'])[1])\n",
    "print('Logistic Regression:', get_error(LogisticRegression(), mms, 'BS', ['S','K','tau','r'])[1])"
   ]
  },
  {
   "cell_type": "code",
   "execution_count": 4,
   "metadata": {
    "ExecuteTime": {
     "end_time": "2022-03-23T03:11:57.438843Z",
     "start_time": "2022-03-23T03:11:57.423883Z"
    }
   },
   "outputs": [],
   "source": [
    "# create basic models for classification\n",
    "cal_models = {'LOR': LogisticRegression(),\n",
    "              'LDA': LinearDiscriminantAnalysis(), \n",
    "              'KNN': KNeighborsClassifier(), \n",
    "              'DeT': DecisionTreeClassifier(random_state=0), \n",
    "              'RF': RandomForestClassifier(random_state=0), \n",
    "              'GAU': GaussianProcessClassifier(random_state=0), \n",
    "              'SVC': SVC(probability=True),\n",
    "              'AB': AdaBoostClassifier(random_state=0),\n",
    "              'QDA': QuadraticDiscriminantAnalysis()}"
   ]
  },
  {
   "cell_type": "code",
   "execution_count": 5,
   "metadata": {
    "ExecuteTime": {
     "end_time": "2022-03-23T03:12:16.363488Z",
     "start_time": "2022-03-23T03:11:57.439841Z"
    }
   },
   "outputs": [
    {
     "name": "stdout",
     "output_type": "stream",
     "text": [
      "LOR 0.08571428571428574\n",
      "LOR 0.08630952380952372\n",
      "-----\n",
      "LDA 0.08690476190476204\n",
      "LDA 0.08690476190476204\n",
      "-----\n",
      "KNN 0.08333333333333337\n",
      "KNN 0.08511904761904743\n",
      "-----\n",
      "DeT 0.08750000000000002\n",
      "DeT 0.08630952380952372\n",
      "-----\n",
      "RF 0.07202380952380949\n",
      "RF 0.07261904761904747\n",
      "-----\n",
      "GAU 0.06607142857142845\n",
      "GAU 0.08452380952380945\n",
      "-----\n",
      "SVC 0.06845238095238082\n",
      "SVC 0.06785714285714273\n",
      "-----\n",
      "AB 0.08571428571428563\n",
      "AB 0.08571428571428563\n",
      "-----\n",
      "QDA 0.0797619047619047\n",
      "QDA 0.0797619047619047\n",
      "-----\n"
     ]
    }
   ],
   "source": [
    "# use standardized and normalized data to train basic model\n",
    "for i in cal_models.keys():\n",
    "    print(i, get_error(cal_models[i], stdsc, 'BS')[1])\n",
    "    print(i, get_error(cal_models[i], mms, 'BS')[1])\n",
    "    print('-----')\n",
    "    \n",
    "# The below result shows that using standardized data to train models will give back better result"
   ]
  },
  {
   "cell_type": "code",
   "execution_count": 6,
   "metadata": {
    "ExecuteTime": {
     "end_time": "2022-03-23T03:12:33.008976Z",
     "start_time": "2022-03-23T03:12:16.364460Z"
    },
    "scrolled": false
   },
   "outputs": [
    {
     "data": {
      "text/html": [
       "<div>\n",
       "<style scoped>\n",
       "    .dataframe tbody tr th:only-of-type {\n",
       "        vertical-align: middle;\n",
       "    }\n",
       "\n",
       "    .dataframe tbody tr th {\n",
       "        vertical-align: top;\n",
       "    }\n",
       "\n",
       "    .dataframe thead tr th {\n",
       "        text-align: left;\n",
       "    }\n",
       "\n",
       "    .dataframe thead tr:last-of-type th {\n",
       "        text-align: right;\n",
       "    }\n",
       "</style>\n",
       "<table border=\"1\" class=\"dataframe\">\n",
       "  <thead>\n",
       "    <tr>\n",
       "      <th></th>\n",
       "      <th colspan=\"2\" halign=\"left\">R-square</th>\n",
       "    </tr>\n",
       "    <tr>\n",
       "      <th></th>\n",
       "      <th>mean</th>\n",
       "      <th>std</th>\n",
       "    </tr>\n",
       "    <tr>\n",
       "      <th>Method</th>\n",
       "      <th></th>\n",
       "      <th></th>\n",
       "    </tr>\n",
       "  </thead>\n",
       "  <tbody>\n",
       "    <tr>\n",
       "      <th>GAU</th>\n",
       "      <td>0.070238</td>\n",
       "      <td>0.025223</td>\n",
       "    </tr>\n",
       "    <tr>\n",
       "      <th>KNN</th>\n",
       "      <td>0.078571</td>\n",
       "      <td>0.029134</td>\n",
       "    </tr>\n",
       "    <tr>\n",
       "      <th>RF</th>\n",
       "      <td>0.072024</td>\n",
       "      <td>0.023045</td>\n",
       "    </tr>\n",
       "    <tr>\n",
       "      <th>VOT</th>\n",
       "      <td>0.064881</td>\n",
       "      <td>0.024534</td>\n",
       "    </tr>\n",
       "  </tbody>\n",
       "</table>\n",
       "</div>"
      ],
      "text/plain": [
       "        R-square          \n",
       "            mean       std\n",
       "Method                    \n",
       "GAU     0.070238  0.025223\n",
       "KNN     0.078571  0.029134\n",
       "RF      0.072024  0.023045\n",
       "VOT     0.064881  0.024534"
      ]
     },
     "metadata": {},
     "output_type": "display_data"
    }
   ],
   "source": [
    "# voting classifier is a classifier that combine several classifiers together, it might gives back better result\n",
    "\n",
    "# we use VOT(KNN, RF, GAU) for example\n",
    "VOT = VotingClassifier(estimators=[('KNN', KNeighborsClassifier()), \n",
    "                                   ('RF', RandomForestClassifier(random_state=0)),\n",
    "                                   ('GAU', GaussianProcessClassifier(random_state=0))],\n",
    "                        voting='soft',\n",
    "                        weights=[1, 1, 1])\n",
    "models = {'KNN': KNeighborsClassifier(), 'RF': RandomForestClassifier(random_state=0),\n",
    "          'GAU': GaussianProcessClassifier(random_state=0), 'VOT': VOT}\n",
    "data = pd.DataFrame(columns =  [\"Method\", \"R-square\"])\n",
    "\n",
    "for i in models.keys():\n",
    "    #print(i)\n",
    "    answer = get_error(models[i], stdsc, 'BS', ran_state=2)\n",
    "    for j in range(10):\n",
    "        app_row = {'Method': i, 'R-square':answer[0][j]}\n",
    "        data = data.append(app_row, ignore_index=True)\n",
    "    #print(np.std(answer[0]))\n",
    "    #print(answer[1])\n",
    "    #print('--------')\n",
    "\n",
    "display(data.groupby(['Method']).agg({'R-square':['mean', 'std']}))\n",
    "# The below result shows that using voting classifier might give back outcome with better accuracy and also lower variance"
   ]
  },
  {
   "cell_type": "code",
   "execution_count": 7,
   "metadata": {
    "ExecuteTime": {
     "end_time": "2022-03-23T03:57:12.019938Z",
     "start_time": "2022-03-23T03:12:33.009941Z"
    }
   },
   "outputs": [
    {
     "data": {
      "text/html": [
       "<div>\n",
       "<style scoped>\n",
       "    .dataframe tbody tr th:only-of-type {\n",
       "        vertical-align: middle;\n",
       "    }\n",
       "\n",
       "    .dataframe tbody tr th {\n",
       "        vertical-align: top;\n",
       "    }\n",
       "\n",
       "    .dataframe thead th {\n",
       "        text-align: right;\n",
       "    }\n",
       "</style>\n",
       "<table border=\"1\" class=\"dataframe\">\n",
       "  <thead>\n",
       "    <tr style=\"text-align: right;\">\n",
       "      <th></th>\n",
       "      <th>mean_rs</th>\n",
       "      <th>std_rs</th>\n",
       "    </tr>\n",
       "  </thead>\n",
       "  <tbody>\n",
       "    <tr>\n",
       "      <th>RF GAU QDA</th>\n",
       "      <td>0.065476</td>\n",
       "      <td>0.026352</td>\n",
       "    </tr>\n",
       "    <tr>\n",
       "      <th>RF SVC AB QDA</th>\n",
       "      <td>0.065476</td>\n",
       "      <td>0.027016</td>\n",
       "    </tr>\n",
       "    <tr>\n",
       "      <th>RF GAU AB QDA</th>\n",
       "      <td>0.066071</td>\n",
       "      <td>0.026143</td>\n",
       "    </tr>\n",
       "    <tr>\n",
       "      <th>GAU</th>\n",
       "      <td>0.066071</td>\n",
       "      <td>0.027206</td>\n",
       "    </tr>\n",
       "    <tr>\n",
       "      <th>RF GAU SVC</th>\n",
       "      <td>0.066071</td>\n",
       "      <td>0.026143</td>\n",
       "    </tr>\n",
       "    <tr>\n",
       "      <th>RF GAU SVC AB</th>\n",
       "      <td>0.066071</td>\n",
       "      <td>0.026143</td>\n",
       "    </tr>\n",
       "    <tr>\n",
       "      <th>RF SVC</th>\n",
       "      <td>0.066071</td>\n",
       "      <td>0.028228</td>\n",
       "    </tr>\n",
       "    <tr>\n",
       "      <th>RF SVC QDA</th>\n",
       "      <td>0.066667</td>\n",
       "      <td>0.027251</td>\n",
       "    </tr>\n",
       "    <tr>\n",
       "      <th>GAU AB</th>\n",
       "      <td>0.066667</td>\n",
       "      <td>0.028020</td>\n",
       "    </tr>\n",
       "    <tr>\n",
       "      <th>RF SVC AB</th>\n",
       "      <td>0.066667</td>\n",
       "      <td>0.025226</td>\n",
       "    </tr>\n",
       "  </tbody>\n",
       "</table>\n",
       "</div>"
      ],
      "text/plain": [
       "                mean_rs    std_rs\n",
       "RF GAU QDA     0.065476  0.026352\n",
       "RF SVC AB QDA  0.065476  0.027016\n",
       "RF GAU AB QDA  0.066071  0.026143\n",
       "GAU            0.066071  0.027206\n",
       "RF GAU SVC     0.066071  0.026143\n",
       "RF GAU SVC AB  0.066071  0.026143\n",
       "RF SVC         0.066071  0.028228\n",
       "RF SVC QDA     0.066667  0.027251\n",
       "GAU AB         0.066667  0.028020\n",
       "RF SVC AB      0.066667  0.025226"
      ]
     },
     "metadata": {},
     "output_type": "display_data"
    }
   ],
   "source": [
    "# to get the best combination for voting classifier, we use the best subset selection to test all the combinations of basic models\n",
    "# create empty dictionary for dataset\n",
    "mean_rs_dict = {}\n",
    "std_rs_dict = {}\n",
    "\n",
    "# iteration of the number of models in voting classification=\n",
    "for i in range(1, len(cal_models)+1):\n",
    "    \n",
    "    # iteration of certain number of models in voting classification\n",
    "    for j in list(itertools.combinations(cal_models, i)):\n",
    "        name_list = []\n",
    "        vot_list = []\n",
    "        \n",
    "        # for a certain model\n",
    "        for k in j:\n",
    "            name_list.append(k)\n",
    "            vot_list.append((k, cal_models[k]))\n",
    "        \n",
    "        VOT = VotingClassifier(estimators = vot_list,\n",
    "                               voting='soft',\n",
    "                               weights=[1]*len(vot_list))\n",
    "        answer = get_error(VOT, stdsc, 'BS')\n",
    "        mean_rs_dict[' '.join([str(elem) for elem in name_list])] = answer[1]\n",
    "        std_rs_dict[' '.join([str(elem) for elem in name_list])] = np.std(answer[0])\n",
    "        #print(name_list)\n",
    "        #print(answer[1])\n",
    "        #print('-----')\n",
    "\n",
    "# show the final result\n",
    "result = pd.Series(mean_rs_dict).to_frame().merge(pd.Series(std_rs_dict).to_frame(),\n",
    "                                                  left_index=True, right_index=True)\n",
    "result.rename(columns={'0_x':'mean_rs', '0_y':'std_rs'}, inplace=True)\n",
    "result = result.sort_values(['mean_rs', 'std_rs'], ascending=[True, True])\n",
    "display(result.head(10))"
   ]
  },
  {
   "cell_type": "code",
   "execution_count": 8,
   "metadata": {
    "ExecuteTime": {
     "end_time": "2022-03-23T03:57:12.035895Z",
     "start_time": "2022-03-23T03:57:12.020935Z"
    }
   },
   "outputs": [],
   "source": [
    "# based on the above best subset selection, we find the three models will give back the best result\n",
    "# then, we want to conduct grid search for three models(RF, GAU, QDA) to find the best hyperparameters repectively\n",
    "\n",
    "# transform the data for grid search\n",
    "kfolds = StratifiedKFold(n_splits = 10, random_state = 0, shuffle = True)\n",
    "input_cols=['S','K','tau','r']\n",
    "X_train = stdsc.fit_transform(option[input_cols].values)\n",
    "y_train = option['BS']"
   ]
  },
  {
   "cell_type": "code",
   "execution_count": 9,
   "metadata": {
    "ExecuteTime": {
     "end_time": "2022-03-23T03:58:25.635053Z",
     "start_time": "2022-03-23T03:57:12.037889Z"
    }
   },
   "outputs": [
    {
     "name": "stdout",
     "output_type": "stream",
     "text": [
      "Grid Search for RandomForestClassifier {'criterion': 'entropy', 'max_features': 'log2', 'min_samples_leaf': 10, 'n_estimators': 100}\n"
     ]
    }
   ],
   "source": [
    "# Grid search for Random Forest Classifier\n",
    "rf_params = {'n_estimators': [100, 200, 300],\n",
    "          'criterion': ['gini', 'entropy'],\n",
    "          'min_samples_leaf': [10, 20],\n",
    "          'max_features':[ 'auto', 'sqrt', 'log2']}\n",
    "\n",
    "rf_gs = GridSearchCV(RandomForestClassifier(), rf_params, cv = kfolds)\n",
    "rf_gs.fit(X_train, y_train)\n",
    "\n",
    "print('Grid Search for RandomForestClassifier',rf_gs.best_params_)\n",
    "rf_best = rf_gs.best_estimator_"
   ]
  },
  {
   "cell_type": "code",
   "execution_count": 10,
   "metadata": {
    "ExecuteTime": {
     "end_time": "2022-03-23T03:59:36.013822Z",
     "start_time": "2022-03-23T03:58:25.636049Z"
    }
   },
   "outputs": [
    {
     "name": "stdout",
     "output_type": "stream",
     "text": [
      "Grid Search for GaussianProcessClassifier {'max_iter_predict': 100, 'multi_class': 'one_vs_rest', 'warm_start': True}\n"
     ]
    }
   ],
   "source": [
    "# grid search for Gaussian Process Classifier\n",
    "gau_params = {'max_iter_predict': [100, 150, 200],\n",
    "              'warm_start': [True, False],\n",
    "              'multi_class':[ 'one_vs_rest', 'one_vs_one']}\n",
    "\n",
    "gau_gs = GridSearchCV(GaussianProcessClassifier(), gau_params, cv = kfolds)\n",
    "gau_gs.fit(X_train, y_train)\n",
    "\n",
    "print('Grid Search for GaussianProcessClassifier',gau_gs.best_params_)\n",
    "gau_best = gau_gs.best_estimator_"
   ]
  },
  {
   "cell_type": "code",
   "execution_count": 11,
   "metadata": {
    "ExecuteTime": {
     "end_time": "2022-03-23T03:59:36.171400Z",
     "start_time": "2022-03-23T03:59:36.014819Z"
    }
   },
   "outputs": [
    {
     "name": "stdout",
     "output_type": "stream",
     "text": [
      "Grid Search for QuadraticDiscriminantAnalysis {'reg_param': 0, 'store_covariance': True}\n"
     ]
    }
   ],
   "source": [
    "# grid search for Quadratic Discriminant Analysis\n",
    "qda_params = {'reg_param': [0, 0.1, 0.2, 0.3, 0.4, 0.5],\n",
    "              'store_covariance': [True, False],}\n",
    "\n",
    "qda_gs = GridSearchCV(QuadraticDiscriminantAnalysis(), qda_params, cv = kfolds)\n",
    "qda_gs.fit(X_train, y_train)\n",
    "\n",
    "print('Grid Search for QuadraticDiscriminantAnalysis',qda_gs.best_params_)\n",
    "qda_best = qda_gs.best_estimator_"
   ]
  },
  {
   "cell_type": "code",
   "execution_count": 12,
   "metadata": {
    "ExecuteTime": {
     "end_time": "2022-03-23T03:59:36.933363Z",
     "start_time": "2022-03-23T03:59:36.172399Z"
    }
   },
   "outputs": [
    {
     "data": {
      "text/plain": [
       "VotingClassifier(estimators=[('rf_best',\n",
       "                              RandomForestClassifier(criterion='entropy',\n",
       "                                                     max_features='log2',\n",
       "                                                     min_samples_leaf=10)),\n",
       "                             ('gau_best',\n",
       "                              GaussianProcessClassifier(warm_start=True)),\n",
       "                             ('qda_best',\n",
       "                              QuadraticDiscriminantAnalysis(reg_param=0,\n",
       "                                                            store_covariance=True))],\n",
       "                 voting='soft', weights=[1, 1, 1])"
      ]
     },
     "execution_count": 12,
     "metadata": {},
     "output_type": "execute_result"
    }
   ],
   "source": [
    "# build the best voting classifier\n",
    "best_vot = VotingClassifier(estimators=[('rf_best', rf_best),\n",
    "                                        ('gau_best',gau_best),\n",
    "                                        ('qda_best', qda_best)],\n",
    "                            voting='soft',\n",
    "                            weights=[1, 1, 1])\n",
    "\n",
    "# use all the data we have to train the model\n",
    "final_X = stdsc.fit_transform(option[['S','K','tau','r']].values)\n",
    "final_y = option['BS']\n",
    "best_vot.fit(final_X, final_y)"
   ]
  },
  {
   "cell_type": "code",
   "execution_count": 13,
   "metadata": {
    "ExecuteTime": {
     "end_time": "2022-03-23T03:59:37.076979Z",
     "start_time": "2022-03-23T03:59:36.934359Z"
    }
   },
   "outputs": [],
   "source": [
    "# read the data for prediction\n",
    "opt_pre = pd.read_csv(\"option_test_wolabel.csv\")\n",
    "\n",
    "# transform the data for prediction and then do the prediction\n",
    "opt_pre_X = stdsc.transform(opt_pre[['S','K','tau','r']].values)\n",
    "opt_pre_y = best_vot.predict(opt_pre_X)"
   ]
  },
  {
   "cell_type": "code",
   "execution_count": 14,
   "metadata": {
    "ExecuteTime": {
     "end_time": "2022-03-23T03:59:37.092935Z",
     "start_time": "2022-03-23T03:59:37.077975Z"
    },
    "scrolled": true
   },
   "outputs": [
    {
     "data": {
      "text/plain": [
       "array([1, 0, 0, ..., 1, 0, 0], dtype=int64)"
      ]
     },
     "execution_count": 14,
     "metadata": {},
     "output_type": "execute_result"
    }
   ],
   "source": [
    "# the final result is:\n",
    "opt_pre_y"
   ]
  }
 ],
 "metadata": {
  "kernelspec": {
   "display_name": "Python 3 (ipykernel)",
   "language": "python",
   "name": "python3"
  },
  "language_info": {
   "codemirror_mode": {
    "name": "ipython",
    "version": 3
   },
   "file_extension": ".py",
   "mimetype": "text/x-python",
   "name": "python",
   "nbconvert_exporter": "python",
   "pygments_lexer": "ipython3",
   "version": "3.9.7"
  },
  "varInspector": {
   "cols": {
    "lenName": 16,
    "lenType": 16,
    "lenVar": 40
   },
   "kernels_config": {
    "python": {
     "delete_cmd_postfix": "",
     "delete_cmd_prefix": "del ",
     "library": "var_list.py",
     "varRefreshCmd": "print(var_dic_list())"
    },
    "r": {
     "delete_cmd_postfix": ") ",
     "delete_cmd_prefix": "rm(",
     "library": "var_list.r",
     "varRefreshCmd": "cat(var_dic_list()) "
    }
   },
   "types_to_exclude": [
    "module",
    "function",
    "builtin_function_or_method",
    "instance",
    "_Feature"
   ],
   "window_display": false
  }
 },
 "nbformat": 4,
 "nbformat_minor": 4
}
